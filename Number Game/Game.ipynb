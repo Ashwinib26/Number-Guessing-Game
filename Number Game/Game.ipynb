{
 "cells": [
  {
   "cell_type": "code",
   "execution_count": null,
   "id": "e8ebc4e7-aae1-407a-82d7-86f816ccb825",
   "metadata": {},
   "outputs": [],
   "source": [
    "pip install mysql-connector-python"
   ]
  },
  {
   "cell_type": "code",
   "execution_count": null,
   "id": "456da24f-bfe4-4e63-97fe-9afa874c8676",
   "metadata": {},
   "outputs": [],
   "source": [
    "pip install prettytable"
   ]
  },
  {
   "cell_type": "code",
   "execution_count": 20,
   "id": "88780c2a-4960-46ed-86eb-7501d5bdccc9",
   "metadata": {},
   "outputs": [
    {
     "name": "stdout",
     "output_type": "stream",
     "text": [
      "Successfully connected to the database\n",
      "Choose Option: \n",
      "  1. Play Game\n",
      "  2. See Scoreboard\n"
     ]
    },
    {
     "name": "stdout",
     "output_type": "stream",
     "text": [
      "Enter your choice :  2\n"
     ]
    },
    {
     "name": "stdout",
     "output_type": "stream",
     "text": [
      "\n",
      "Scoreboard:\n",
      "\n",
      "+----------+-------+\n",
      "|   Name   | Score |\n",
      "+----------+-------+\n",
      "| Player 2 |   7   |\n",
      "| Player 1 |   3   |\n",
      "+----------+-------+\n",
      "\n",
      "Connection closed\n"
     ]
    }
   ],
   "source": [
    "import random\n",
    "import mysql.connector\n",
    "from prettytable import PrettyTable\n",
    "\n",
    "# Connect to MySQL\n",
    "config = {\n",
    "    'user': 'your_username',\n",
    "    'password': 'your_password',\n",
    "    'host': 'localhost',\n",
    "    'database': 'your_database'\n",
    "}\n",
    "\n",
    "try:\n",
    "    connection = mysql.connector.connect(**config)\n",
    "    cursor = connection.cursor()\n",
    "    if connection.is_connected():\n",
    "        print(\"Successfully connected to the database\")\n",
    "        print(\"Choose Option: \\n  1. Play Game\\n  2. See Scoreboard\")\n",
    "        c = int(input(\"Enter your choice : \"))\n",
    "        \n",
    "        if c == 1:\n",
    "            print(\"Welcome to The Number Guessing Game!\")\n",
    "            name = input(\"Enter your NAME : \")\n",
    "            num = random.randint(0, 99)\n",
    "            print(num)\n",
    "        \n",
    "            chances = 0\n",
    "        \n",
    "            while True:\n",
    "                a = int(input(\"Enter a number: \"))\n",
    "                if a == num:\n",
    "                    chances +=1\n",
    "                    print(\"Yeah!! Number Found!\")\n",
    "                    break\n",
    "                elif a > num:\n",
    "                    chances += 1\n",
    "                    print(\"--- This number is greater than the original number\")\n",
    "                else:\n",
    "                    chances += 1\n",
    "                    print(\"--- This number is lesser than the original number\")\n",
    "        \n",
    "            score = chances\n",
    "            print(\"It took \", score, \" chances to guess the correct number\")\n",
    "        \n",
    "            # Insert the score with player name into the database\n",
    "            cursor.execute(\"INSERT INTO your_tablename (name, score) VALUES (%s, %s)\", (name, score))\n",
    "            connection.commit()\n",
    "        elif c == 2:\n",
    "            # Retrieve and display the scoreboard\n",
    "            cursor.execute(\"SELECT name, score FROM your_tablename ORDER BY score DESC\")\n",
    "            results = cursor.fetchall()\n",
    "\n",
    "            # Create a PrettyTable object\n",
    "            table = PrettyTable()\n",
    "            table.field_names = [\"Name\", \"Score\"]\n",
    "\n",
    "            for row in results:\n",
    "                table.add_row([row[0], row[1]])\n",
    "\n",
    "            print(\"\\nScoreboard:\\n\")\n",
    "            print(table)\n",
    "        else:\n",
    "            print(\"Improper Input, Try Again\")\n",
    "\n",
    "except mysql.connector.Error as err:\n",
    "    print(f\"Error: {err}\")\n",
    "finally:\n",
    "    if (connection.is_connected()):\n",
    "        connection.close()\n",
    "        print(\"\\nConnection closed\")\n"
   ]
  },
  {
   "cell_type": "code",
   "execution_count": null,
   "id": "6aed3d4c-d575-4733-9736-59f79759a387",
   "metadata": {},
   "outputs": [],
   "source": []
  },
  {
   "cell_type": "code",
   "execution_count": null,
   "id": "5ff51e00-a169-476e-81ef-6dfcd9d53e45",
   "metadata": {},
   "outputs": [],
   "source": []
  },
  {
   "cell_type": "code",
   "execution_count": null,
   "id": "0ac05efd-64d8-4dcc-a67e-2a1d93ae416f",
   "metadata": {},
   "outputs": [],
   "source": []
  }
 ],
 "metadata": {
  "kernelspec": {
   "display_name": "Python 3 (ipykernel)",
   "language": "python",
   "name": "python3"
  },
  "language_info": {
   "codemirror_mode": {
    "name": "ipython",
    "version": 3
   },
   "file_extension": ".py",
   "mimetype": "text/x-python",
   "name": "python",
   "nbconvert_exporter": "python",
   "pygments_lexer": "ipython3",
   "version": "3.11.7"
  }
 },
 "nbformat": 4,
 "nbformat_minor": 5
}
